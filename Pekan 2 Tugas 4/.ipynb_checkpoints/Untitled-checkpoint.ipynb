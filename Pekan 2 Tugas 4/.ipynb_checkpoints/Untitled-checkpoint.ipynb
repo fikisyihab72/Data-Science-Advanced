{
 "cells": [
  {
   "cell_type": "code",
   "execution_count": 1,
   "metadata": {},
   "outputs": [],
   "source": [
    "import tweepy\n",
    "import re\n",
    "import pandas as pd\n",
    "import matplotlib.pyplot as plt\n",
    "import numpy as np"
   ]
  },
  {
   "cell_type": "code",
   "execution_count": 2,
   "metadata": {},
   "outputs": [],
   "source": [
    "consumer_key = \"ZTc8gleb1HkEN3CpJCsVgGCva\"\n",
    "consumer_secret = \"1ixVSxHJHQPwMJUswkg6PiTqkptHMgEGsNxfo4O3jeB4x0qUn1\"\n",
    "access_token = \"844846590649032706-QrO5iNylPUyfYBq23ZrB7wQp13PGtUq\"\n",
    "access_token_secret = \"HknBidwR0BWZ0nibDBZt4CHbyaAnCxv7QeL48EyP9Hhwf\""
   ]
  },
  {
   "cell_type": "code",
   "execution_count": 3,
   "metadata": {},
   "outputs": [],
   "source": [
    "auth = tweepy.OAuthHandler(consumer_key, consumer_secret)\n",
    "auth.set_access_token(access_token, access_token_secret)\n",
    "api = tweepy.API(auth)"
   ]
  },
  {
   "cell_type": "code",
   "execution_count": 11,
   "metadata": {},
   "outputs": [],
   "source": [
    "search_words = \"jouska\"\n",
    "date_since = \"2020-07-27\"\n",
    "new_search = search_words + \" -filter:retweets\"\n",
    "tweets = tweepy.Cursor(api.search,\n",
    "        q=new_search,\n",
    "        lang=\"id\",\n",
    "        since=date_since).items(1000)\n"
   ]
  },
  {
   "cell_type": "code",
   "execution_count": 12,
   "metadata": {},
   "outputs": [],
   "source": [
    "items = []\n",
    "for tweet in tweets:\n",
    "    item = []\n",
    "    item.append (' '.join(re.sub(\"(@[A-Za-z0-9]+)|([^0-9A-Za-z \\t])|(\\w+:\\/\\/\\S+)\", \" \", tweet.text).split()))\n",
    "    items.append(item)\n",
    "    items.append(item)\n",
    "hasil = pd.DataFrame(data=items, columns=['tweet'])\n"
   ]
  },
  {
   "cell_type": "code",
   "execution_count": null,
   "metadata": {},
   "outputs": [],
   "source": [
    "pos_list= open(\"./kata_positif.txt\",\"r\")\n",
    "pos_kata = pos_list.readlines()\n",
    "neg_list= open(\"./kata_negatif.txt\",\"r\")\n",
    "neg_kata = neg_list.readlines()"
   ]
  },
  {
   "cell_type": "code",
   "execution_count": 37,
   "metadata": {},
   "outputs": [
    {
     "name": "stdout",
     "output_type": "stream",
     "text": [
      "Sentimen analisis pada tweet Penipuan oleh Jouska\n",
      "Nilai rata-rata: -0.5159235668789809\n",
      "Nilai median : 0.0\n"
     ]
    },
    {
     "data": {
      "image/png": "[encoded data removed]",
      "text/plain": [
       "<Figure size 432x288 with 1 Axes>"
      ]
     },
     "metadata": {
      "needs_background": "light"
     },
     "output_type": "display_data"
    }
   ],
   "source": [
    "S=[]\n",
    "for item in items:\n",
    "    count_p = 0\n",
    "    count_n = 0\n",
    "    for kata_pos in pos_kata:\n",
    "        if kata_pos.strip() in item[0]:\n",
    "            count_p +=1\n",
    "    for kata_neg in neg_kata:\n",
    "        if kata_neg.strip() in item[0]:\n",
    "            count_n +=1\n",
    "    S.append(count_p - count_n)\n",
    "hasil[\"value\"] = S\n",
    "print('Sentimen analisis pada tweet Penipuan oleh Jouska')\n",
    "print (\"Nilai rata-rata: \"+str(np.mean(hasil[\"value\"])))\n",
    "print (\"Nilai median : \"+str(np.median(hasil[\"value\"])))\n",
    "\n",
    "labels, counts = np.unique(hasil[\"value\"], return_counts=True)\n",
    "plt.bar(labels, counts, align='center')\n",
    "plt.gca().set_xticks(labels)\n",
    "plt.show()"
   ]
  }
 ],
 "metadata": {
  "kernelspec": {
   "display_name": "Python 3",
   "language": "python",
   "name": "python3"
  },
  "language_info": {
   "codemirror_mode": {
    "name": "ipython",
    "version": 3
   },
   "file_extension": ".py",
   "mimetype": "text/x-python",
   "name": "python",
   "nbconvert_exporter": "python",
   "pygments_lexer": "ipython3",
   "version": "3.8.3"
  }
 },
 "nbformat": 4,
 "nbformat_minor": 4
}
