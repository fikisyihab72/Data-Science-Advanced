{
 "cells": [
  {
   "cell_type": "code",
   "execution_count": 8,
   "metadata": {},
   "outputs": [],
   "source": [
    "from openpyxl import load_workbook, Workbook\n",
    "import sqlite3"
   ]
  },
  {
   "cell_type": "code",
   "execution_count": 12,
   "metadata": {},
   "outputs": [],
   "source": [
    "def open_excel():\n",
    "    data = load_workbook(filename=\"pokemon_db.xlsx\")\n",
    "    sheet = data.active\n",
    "    return sheet"
   ]
  },
  {
   "cell_type": "code",
   "execution_count": 43,
   "metadata": {},
   "outputs": [],
   "source": [
    "def convert_dict(sheet):\n",
    "    pokemon_data = []\n",
    "    for row_index in range (len(sheet['A'])):\n",
    "        if sheet[row_index+1][0].value == \"Name\":\n",
    "            continue\n",
    "\n",
    "        pokemon = {}\n",
    "        pokemon['Name']=sheet[row_index+1][0].value\n",
    "        pokemon['Type']=sheet[row_index+1][1].value\n",
    "        pokemon['Total']=sheet[row_index+1][2].value\n",
    "        pokemon['HP']=sheet[row_index+1][3].value\n",
    "        pokemon['Attack']=sheet[row_index+1][4].value\n",
    "        pokemon['Defense']=sheet[row_index+1][5].value\n",
    "        pokemon['Sp. Atk']=sheet[row_index+1][6].value\n",
    "        pokemon['Sp. Def']=sheet[row_index+1][7].value\n",
    "        pokemon['Speed']=sheet[row_index+1][8].value\n",
    "\n",
    "        pokemon_data.append(pokemon)\n",
    "    return pokemon_data"
   ]
  },
  {
   "cell_type": "code",
   "execution_count": 45,
   "metadata": {},
   "outputs": [],
   "source": [
    "data = open_excel()\n",
    "poke_dict = convert_dict(data)"
   ]
  },
  {
   "cell_type": "code",
   "execution_count": 46,
   "metadata": {},
   "outputs": [],
   "source": [
    "import json\n",
    "with open('Fiki.json', 'w') as outfile:\n",
    "    json.dump(poke_dict, outfile)"
   ]
  }
 ],
 "metadata": {
  "kernelspec": {
   "display_name": "Python 3",
   "language": "python",
   "name": "python3"
  },
  "language_info": {
   "codemirror_mode": {
    "name": "ipython",
    "version": 3
   },
   "file_extension": ".py",
   "mimetype": "text/x-python",
   "name": "python",
   "nbconvert_exporter": "python",
   "pygments_lexer": "ipython3",
   "version": "3.8.3"
  }
 },
 "nbformat": 4,
 "nbformat_minor": 4
}
