{
 "cells": [
  {
   "cell_type": "code",
   "execution_count": 56,
   "metadata": {},
   "outputs": [],
   "source": [
    "from urllib.request import urlopen\n",
    "from bs4 import BeautifulSoup\n",
    "import pandas as pd\n",
    "\n",
    "alamat = \"https://en.wikipedia.org/wiki/List_of_Academy_Award-winning_films\"\n",
    "html = urlopen(alamat)\n",
    "data = BeautifulSoup(html, 'html.parser')\n"
   ]
  },
  {
   "cell_type": "code",
   "execution_count": 57,
   "metadata": {},
   "outputs": [],
   "source": [
    "table = data.findAll(\"table\", {\"class\":\"wikitable\"})[0]\n",
    "rows = table.findAll(\"tr\")[1:16]\n",
    "\n",
    "hasil = []\n",
    "for row in rows:\n",
    "    info = []\n",
    "    for cell in row.findAll([\"td\", \"th\"]):\n",
    "        info.append(cell.get_text())\n",
    "    hasil.append(info)"
   ]
  },
  {
   "cell_type": "code",
   "execution_count": 58,
   "metadata": {},
   "outputs": [],
   "source": [
    "de = []\n",
    "\n",
    "def Extract(lst): \n",
    "    return de.append([item[0] for item in hasil])\n",
    "\n",
    "Extract(hasil)"
   ]
  },
  {
   "cell_type": "code",
   "execution_count": 59,
   "metadata": {},
   "outputs": [
    {
     "name": "stdout",
     "output_type": "stream",
     "text": [
      "                                                 Film\n",
      "0                                            Parasite\n",
      "1                                      Ford v Ferrari\n",
      "2   Learning to Skateboard in a Warzone (If You're...\n",
      "3                               The Neighbors' Window\n",
      "4                                        Little Women\n",
      "5                                      Marriage Story\n",
      "6                                         Jojo Rabbit\n",
      "7                                         Toy Story 4\n",
      "8                                               Joker\n",
      "9                       Once Upon a Time in Hollywood\n",
      "10                                               1917\n",
      "11                                               Judy\n",
      "12                                          Bombshell\n",
      "13                                          Rocketman\n",
      "14                                   American Factory\n",
      "ulala\n"
     ]
    }
   ],
   "source": [
    "df = pd.DataFrame(de)\n",
    "df1_transposed = df.T\n",
    "df1_transposed.columns = ['Film']\n",
    "print(df1_transposed)\n",
    "print('ulala')"
   ]
  },
  {
   "cell_type": "code",
   "execution_count": null,
   "metadata": {},
   "outputs": [],
   "source": []
  },
  {
   "cell_type": "code",
   "execution_count": null,
   "metadata": {},
   "outputs": [],
   "source": []
  },
  {
   "cell_type": "code",
   "execution_count": null,
   "metadata": {},
   "outputs": [],
   "source": []
  },
  {
   "cell_type": "code",
   "execution_count": null,
   "metadata": {},
   "outputs": [],
   "source": []
  }
 ],
 "metadata": {
  "kernelspec": {
   "display_name": "Python 3",
   "language": "python",
   "name": "python3"
  },
  "language_info": {
   "codemirror_mode": {
    "name": "ipython",
    "version": 3
   },
   "file_extension": ".py",
   "mimetype": "text/x-python",
   "name": "python",
   "nbconvert_exporter": "python",
   "pygments_lexer": "ipython3",
   "version": "3.8.3"
  }
 },
 "nbformat": 4,
 "nbformat_minor": 4
}
