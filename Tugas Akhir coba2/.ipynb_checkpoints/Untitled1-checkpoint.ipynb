{
 "cells": [
  {
   "cell_type": "code",
   "execution_count": null,
   "metadata": {},
   "outputs": [],
   "source": [
    "import sqlite3\n",
    "\n",
    "connection = sqlite3.connect('db_coba.db')\n",
    "cursor = connection.cursor()\n",
    "print(\"Database created and Successfully Connected to SQLite\")\n",
    "cursor.close()"
   ]
  },
  {
   "cell_type": "code",
   "execution_count": null,
   "metadata": {},
   "outputs": [],
   "source": [
    "connection = sqlite3.connect(\"db_coba.db\")\n",
    "create_tabel_tweet = '''CREATE TABLE IF NOT EXISTS tabel_tweet (\n",
    "                             id INTEGER PRIMARY KEY AUTOINCREMENT,\n",
    "                             nama TEXT NOT NULL);'''\n",
    "\n",
    "cursor = connection.cursor()\n",
    "cursor.execute(create_tabel_tweet)\n",
    "connection.commit()\n",
    "cursor.close()\n",
    "connection.close()"
   ]
  },
  {
   "cell_type": "code",
   "execution_count": null,
   "metadata": {},
   "outputs": [],
   "source": [
    "connection = sqlite3.connect(\"db_coba.db\")\n",
    "crud_query = '''INSERT OR IGNORE INTO tabel1 (nama) values (?,?,?)'''\n",
    "\n",
    "cursor = connection.cursor()\n",
    "cursor.executemany(crud_query,items)\n",
    "connection.commit()\n",
    "cursor.close()\n",
    "connection.close()"
   ]
  }
 ],
 "metadata": {
  "kernelspec": {
   "display_name": "Python 3",
   "language": "python",
   "name": "python3"
  },
  "language_info": {
   "codemirror_mode": {
    "name": "ipython",
    "version": 3
   },
   "file_extension": ".py",
   "mimetype": "text/x-python",
   "name": "python",
   "nbconvert_exporter": "python",
   "pygments_lexer": "ipython3",
   "version": "3.8.3"
  }
 },
 "nbformat": 4,
 "nbformat_minor": 4
}
