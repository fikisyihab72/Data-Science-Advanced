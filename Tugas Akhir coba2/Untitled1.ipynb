{
 "cells": [
  {
   "cell_type": "code",
   "execution_count": 16,
   "metadata": {},
   "outputs": [
    {
     "name": "stdout",
     "output_type": "stream",
     "text": [
      "Database created and Successfully Connected to SQLite\n"
     ]
    }
   ],
   "source": [
    "    import sqlite3\n",
    "\n",
    "    connection = sqlite3.connect('academyawards.db')\n",
    "    cursor = connection.cursor()\n",
    "    print(\"Database created and Successfully Connected to SQLite\")\n",
    "    cursor.close()"
   ]
  },
  {
   "cell_type": "code",
   "execution_count": 17,
   "metadata": {},
   "outputs": [],
   "source": [
    "    connection = sqlite3.connect(\"academyawards.db\")\n",
    "    create_film_table = '''CREATE TABLE IF NOT EXISTS films (\n",
    "                                 id INTEGER PRIMARY KEY AUTOINCREMENT,\n",
    "                                 name TEXT NOT NULL,\n",
    "                                 year integer NOT NULL,\n",
    "                                 awards integer NOT NULL,\n",
    "                                 nominations integer NOT NULL UNIQUE);'''\n",
    "\n",
    "    cursor = connection.cursor()\n",
    "    cursor.execute(create_film_table)\n",
    "    connection.commit()\n",
    "    cursor.close()\n",
    "    connection.close()"
   ]
  },
  {
   "cell_type": "code",
   "execution_count": 20,
   "metadata": {},
   "outputs": [],
   "source": [
    "    connection = sqlite3.connect(\"academyawards.db\")\n",
    "    crud_query = '''insert or ignore into films (name, year, awards, nominations) values (?,?,?,?);'''\n",
    "\n",
    "    input_list = ('data1', 'data2', 'data3', 'data4')\n",
    "\n",
    "    cursor = connection.cursor()\n",
    "    cursor.execute(crud_query,input_list)\n",
    "    connection.commit()\n",
    "    cursor.close()\n",
    "    connection.close()"
   ]
  },
  {
   "cell_type": "code",
   "execution_count": null,
   "metadata": {},
   "outputs": [],
   "source": []
  }
 ],
 "metadata": {
  "kernelspec": {
   "display_name": "Python 3",
   "language": "python",
   "name": "python3"
  },
  "language_info": {
   "codemirror_mode": {
    "name": "ipython",
    "version": 3
   },
   "file_extension": ".py",
   "mimetype": "text/x-python",
   "name": "python",
   "nbconvert_exporter": "python",
   "pygments_lexer": "ipython3",
   "version": "3.8.3"
  }
 },
 "nbformat": 4,
 "nbformat_minor": 4
}
