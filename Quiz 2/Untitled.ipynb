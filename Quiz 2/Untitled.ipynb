{
 "cells": [
  {
   "cell_type": "code",
   "execution_count": null,
   "metadata": {},
   "outputs": [],
   "source": [
    "from Sastrawi.StopWordRemover.StopWordRemoverFactory import StopWordRemoverFactory\n",
    "from nltk.tokenize import word_tokenize\n",
    "\n",
    "factory = StopWordRemoverFactory()\n",
    "stopword = factory.create_stop_word_remover()\n",
    "\n",
    "def filter_data(kalimat):\n",
    "    #Mengubah menjadi huruf kecil\n",
    "    hasil = kalimat.lower()\n",
    "    #Menghilangkan tanda baca\n",
    "    hasil = kalimat.translate(str.maketrans(\"\",\"\",string.punctuation))\n",
    "    #Menghilangkan angka\n",
    "    hasil = re.sub(r\"\\d+\", \"\", kalimat)\n",
    "    #Menghilangkan white space\n",
    "    hasil = kalimat.strip()\n",
    "    #StopWord\n",
    "    hasil = stopword.remove(kalimat)\n",
    "    return(hasil)"
   ]
  },
  {
   "cell_type": "code",
   "execution_count": 6,
   "metadata": {},
   "outputs": [],
   "source": [
    "from urllib.request import urlopen, Request\n",
    "from bs4 import BeautifulSoup\n",
    "\n",
    "alamat = \"https://kompas.com/\"\n",
    "safeAdd = Request(alamat, headers={'User-Agent': 'Mozilla/5.0'})\n",
    "html = urlopen(safeAdd)\n",
    "data = BeautifulSoup(html, 'html.parser')\n",
    "\n",
    "user= data.findAll(\"title__content\")\n",
    "for item in user:\n",
    "    print(item.contents[0])"
   ]
  },
  {
   "cell_type": "code",
   "execution_count": null,
   "metadata": {},
   "outputs": [],
   "source": []
  }
 ],
 "metadata": {
  "kernelspec": {
   "display_name": "Python 3",
   "language": "python",
   "name": "python3"
  },
  "language_info": {
   "codemirror_mode": {
    "name": "ipython",
    "version": 3
   },
   "file_extension": ".py",
   "mimetype": "text/x-python",
   "name": "python",
   "nbconvert_exporter": "python",
   "pygments_lexer": "ipython3",
   "version": "3.8.3"
  }
 },
 "nbformat": 4,
 "nbformat_minor": 4
}
