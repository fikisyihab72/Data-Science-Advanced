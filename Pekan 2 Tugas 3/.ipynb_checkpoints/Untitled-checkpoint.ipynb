{
 "cells": [
  {
   "cell_type": "code",
   "execution_count": 1,
   "metadata": {},
   "outputs": [],
   "source": [
    "import tweepy\n",
    "import re\n",
    "import pandas as pd\n",
    "import matplotlib.pyplot as plt\n",
    "import numpy as np"
   ]
  },
  {
   "cell_type": "code",
   "execution_count": 2,
   "metadata": {},
   "outputs": [],
   "source": [
    "consumer_key = \"ZTc8gleb1HkEN3CpJCsVgGCva\"\n",
    "consumer_secret = \"1ixVSxHJHQPwMJUswkg6PiTqkptHMgEGsNxfo4O3jeB4x0qUn1\"\n",
    "access_token = \"844846590649032706-QrO5iNylPUyfYBq23ZrB7wQp13PGtUq\"\n",
    "access_token_secret = \"HknBidwR0BWZ0nibDBZt4CHbyaAnCxv7QeL48EyP9Hhwf\""
   ]
  },
  {
   "cell_type": "code",
   "execution_count": 3,
   "metadata": {},
   "outputs": [],
   "source": [
    "auth = tweepy.OAuthHandler(consumer_key, consumer_secret)\n",
    "auth.set_access_token(access_token, access_token_secret)\n",
    "api = tweepy.API(auth)"
   ]
  },
  {
   "cell_type": "code",
   "execution_count": 11,
   "metadata": {},
   "outputs": [],
   "source": [
    "search_words = \"jouska\"\n",
    "search_words2 = \"anies baswedan\"\n",
    "search_words3 = \"terawan agus putranto\"\n",
    "date_since = \"2020-07-27\"\n",
    "new_search = search_words + \" -filter:retweets\"\n",
    "new_search2 = search_words2 + \" -filter:retweets\"\n",
    "new_search3 = search_words3 + \" -filter:retweets\"\n",
    "\n",
    "tweets = tweepy.Cursor(api.search,\n",
    "        q=new_search,\n",
    "        lang=\"id\",\n",
    "        since=date_since).items(1000)\n",
    "tweets2 = tweepy.Cursor(api.search,\n",
    "        q=new_search2,\n",
    "        lang=\"id\",\n",
    "        since=date_since).items(1000)\n",
    "tweets3 = tweepy.Cursor(api.search,\n",
    "        q=new_search3,\n",
    "        lang=\"id\",\n",
    "        since=date_since).items(1000)"
   ]
  },
  {
   "cell_type": "code",
   "execution_count": 12,
   "metadata": {},
   "outputs": [],
   "source": [
    "items = []\n",
    "for tweet in tweets:\n",
    "    item = []\n",
    "    item.append (' '.join(re.sub(\"(@[A-Za-z0-9]+)|([^0-9A-Za-z \\t])|(\\w+:\\/\\/\\S+)\", \" \", tweet.text).split()))\n",
    "    items.append(item)\n",
    "    items.append(item)\n",
    "hasil = pd.DataFrame(data=items, columns=['tweet'])\n",
    "\n",
    "items2 = []\n",
    "for tweet2 in tweets2:\n",
    "    item2 = []\n",
    "    item2.append (' '.join(re.sub(\"(@[A-Za-z0-9]+)|([^0-9A-Za-z \\t])|(\\w+:\\/\\/\\S+)\", \" \", tweet2.text).split()))\n",
    "    items2.append(item2)\n",
    "    items2.append(item2)\n",
    "hasil2 = pd.DataFrame(data=items2, columns=['tweet'])\n",
    "\n",
    "items3 = []\n",
    "for tweet3 in tweets3:\n",
    "    item3 = []\n",
    "    item3.append (' '.join(re.sub(\"(@[A-Za-z0-9]+)|([^0-9A-Za-z \\t])|(\\w+:\\/\\/\\S+)\", \" \", tweet3.text).split()))\n",
    "    items3.append(item3)\n",
    "    items3.append(item3)\n",
    "hasil3 = pd.DataFrame(data=items3, columns=['tweet'])"
   ]
  },
  {
   "cell_type": "code",
   "execution_count": null,
   "metadata": {},
   "outputs": [],
   "source": [
    "pos_list= open(\"./kata_positif.txt\",\"r\")\n",
    "pos_kata = pos_list.readlines()\n",
    "neg_list= open(\"./kata_negatif.txt\",\"r\")\n",
    "neg_kata = neg_list.readlines()"
   ]
  },
  {
   "cell_type": "code",
   "execution_count": 28,
   "metadata": {},
   "outputs": [
    {
     "name": "stdout",
     "output_type": "stream",
     "text": [
      "Nilai rata-rata: -0.5159235668789809\n",
      "Nilai median : 0.0\n"
     ]
    },
    {
     "data": {
      "image/png": "[encoded data removed]",
      "text/plain": [
       "<Figure size 432x288 with 1 Axes>"
      ]
     },
     "metadata": {
      "needs_background": "light"
     },
     "output_type": "display_data"
    }
   ],
   "source": [
    "S=[]\n",
    "for item in items:\n",
    "    count_p = 0\n",
    "    count_n = 0\n",
    "    for kata_pos in pos_kata:\n",
    "        if kata_pos.strip() in item[0]:\n",
    "            count_p +=1\n",
    "    for kata_neg in neg_kata:\n",
    "        if kata_neg.strip() in item[0]:\n",
    "            count_n +=1\n",
    "    S.append(count_p - count_n)\n",
    "hasil[\"value\"] = S\n",
    "print (\"Nilai rata-rata: \"+str(np.mean(hasil[\"value\"])))\n",
    "print (\"Nilai median : \"+str(np.median(hasil[\"value\"])))\n",
    "\n",
    "labels, counts = np.unique(hasil[\"value\"], return_counts=True)\n",
    "plt.bar(labels, counts, align='center')\n",
    "plt.gca().set_xticks(labels)\n",
    "plt.show()"
   ]
  },
  {
   "cell_type": "code",
   "execution_count": 29,
   "metadata": {},
   "outputs": [
    {
     "name": "stdout",
     "output_type": "stream",
     "text": [
      "Nilai rata-rata: -0.6739606126914661\n",
      "Nilai median : -1.0\n"
     ]
    },
    {
     "data": {
      "image/png": "[encoded data removed]",
      "text/plain": [
       "<Figure size 432x288 with 1 Axes>"
      ]
     },
     "metadata": {
      "needs_background": "light"
     },
     "output_type": "display_data"
    }
   ],
   "source": [
    "S2=[]\n",
    "for item2 in items2:\n",
    "    count_p2 = 0\n",
    "    count_n2 = 0\n",
    "    for kata_pos2 in pos_kata:\n",
    "        if kata_pos2.strip() in item2[0]:\n",
    "            count_p2 +=1\n",
    "    for kata_neg2 in neg_kata:\n",
    "        if kata_neg2.strip() in item2[0]:\n",
    "            count_n2 +=1\n",
    "    S2.append(count_p2 - count_n2)\n",
    "hasil2[\"value\"] = S2\n",
    "print (\"Nilai rata-rata: \"+str(np.mean(hasil2[\"value\"])))\n",
    "print (\"Nilai median : \"+str(np.median(hasil2[\"value\"])))\n",
    "\n",
    "labels, counts = np.unique(hasil2[\"value\"], return_counts=True)\n",
    "plt.bar(labels, counts, align='center')\n",
    "plt.gca().set_xticks(labels)\n",
    "plt.show()"
   ]
  },
  {
   "cell_type": "code",
   "execution_count": 30,
   "metadata": {},
   "outputs": [
    {
     "name": "stdout",
     "output_type": "stream",
     "text": [
      "Nilai rata-rata: 0.75\n",
      "Nilai median : 1.0\n"
     ]
    },
    {
     "data": {
      "image/png": "[encoded data removed]",
      "text/plain": [
       "<Figure size 432x288 with 1 Axes>"
      ]
     },
     "metadata": {
      "needs_background": "light"
     },
     "output_type": "display_data"
    }
   ],
   "source": [
    "S3=[]\n",
    "for item3 in items3:\n",
    "    count_p3 = 0\n",
    "    count_n3 = 0\n",
    "    for kata_pos3 in pos_kata:\n",
    "        if kata_pos3.strip() in item3[0]:\n",
    "            count_p3 +=1\n",
    "    for kata_neg3 in neg_kata:\n",
    "        if kata_neg3.strip() in item3[0]:\n",
    "            count_n3 +=1\n",
    "    S3.append(count_p3 - count_n3)\n",
    "hasil3[\"value\"] = S3\n",
    "print (\"Nilai rata-rata: \"+str(np.mean(hasil3[\"value\"])))\n",
    "print (\"Nilai median : \"+str(np.median(hasil3[\"value\"])))\n",
    "\n",
    "labels, counts = np.unique(hasil3[\"value\"], return_counts=True)\n",
    "plt.bar(labels, counts, align='center')\n",
    "plt.gca().set_xticks(labels)\n",
    "plt.show()"
   ]
  },
  {
   "cell_type": "code",
   "execution_count": 35,
   "metadata": {},
   "outputs": [
    {
     "name": "stdout",
     "output_type": "stream",
     "text": [
      "KESIMPULAN\n",
      "Sentimen analisis pada tweet Penipuan oleh Jouska\n",
      "1. Hasil tweet yang berhasil discrapping memiliki jumlah paling banyak dibanding 2 tweet lainnya\n",
      "2. Nilai rata-rata yang dihasilkan adalah  -0.5159235668789809\n",
      "3. Nilai median yang dihasilkan adalah 0.0\n",
      "4. Sentimen analisis yang dihasilkan cenderung negatif dilihat dari nilai rata-rata point sentimen\n",
      "5. Bar graph menunjukan tweet paling banyak memiliki sentimen netral yaitu 0 point dengan jumlah tweet lebih dari 500\n",
      "\n",
      "Sentimen analisis pada tweet Gubernur Jakarta, Anies Baswedan\n",
      "1. Hasil tweet yang berhasil discrapping memiliki jumlah paling banyak kedua setelah tweet Penipuan oleh Jouska\n",
      "2. Nilai rata-rata yang dihasilkan adalah  -0.6739606126914661\n",
      "3. Nilai median yang dihasilkan adalah -1.0\n",
      "4. Sentimen analisis yang dihasilkan cenderung negatif dilihat dari nilai rata-rata point sentimen\n",
      "5. Bar graph menunjukan tweet paling banyak memiliki sentimen negatif yaitu -1 point dengan jumlah tweet lebih dari 350\n",
      "\n",
      "Sentimen analisis pada tweet Menteri Kesehatan, Pak Terawan Agus Putranto\n",
      "1. Hasil tweet yang berhasil discrapping memiliki jumlah paling sedikit dibandingkan 2 tweet lainnya\n",
      "2. Nilai rata-rata yang dihasilkan adalah  0.75\n",
      "3. Nilai median yang dihasilkan adalah 1.0\n",
      "4. Sentimen analisis yang dihasilkan cenderung positif dilihat dari nilai rata-rata point sentimen yaitu 0.75\n",
      "5. Bar graph menunjukan tweet paling banyak memiliki sentimen positif yaitu 1 point dengan jumlah 9 tweet\n"
     ]
    }
   ],
   "source": [
    "print('KESIMPULAN')\n",
    "print('Sentimen analisis pada tweet Penipuan oleh Jouska')\n",
    "print('1. Hasil tweet yang berhasil discrapping memiliki jumlah paling banyak dibanding 2 tweet lainnya')\n",
    "print('2. Nilai rata-rata yang dihasilkan adalah  -0.5159235668789809')\n",
    "print('3. Nilai median yang dihasilkan adalah 0.0')\n",
    "print('4. Sentimen analisis yang dihasilkan cenderung negatif dilihat dari nilai rata-rata point sentimen')\n",
    "print('5. Bar graph menunjukan tweet paling banyak memiliki sentimen netral yaitu 0 point dengan jumlah tweet lebih dari 500')\n",
    "print('')\n",
    "print('Sentimen analisis pada tweet Gubernur Jakarta, Anies Baswedan')\n",
    "print('1. Hasil tweet yang berhasil discrapping memiliki jumlah paling banyak kedua setelah tweet Penipuan oleh Jouska')\n",
    "print('2. Nilai rata-rata yang dihasilkan adalah  -0.6739606126914661')\n",
    "print('3. Nilai median yang dihasilkan adalah -1.0')\n",
    "print('4. Sentimen analisis yang dihasilkan cenderung negatif dilihat dari nilai rata-rata point sentimen')\n",
    "print('5. Bar graph menunjukan tweet paling banyak memiliki sentimen negatif yaitu -1 point dengan jumlah tweet lebih dari 350')\n",
    "print('')\n",
    "print('Sentimen analisis pada tweet Menteri Kesehatan, Pak Terawan Agus Putranto')\n",
    "print('1. Hasil tweet yang berhasil discrapping memiliki jumlah paling sedikit dibandingkan 2 tweet lainnya')\n",
    "print('2. Nilai rata-rata yang dihasilkan adalah  0.75')\n",
    "print('3. Nilai median yang dihasilkan adalah 1.0')\n",
    "print('4. Sentimen analisis yang dihasilkan cenderung positif dilihat dari nilai rata-rata point sentimen yaitu 0.75')\n",
    "print('5. Bar graph menunjukan tweet paling banyak memiliki sentimen positif yaitu 1 point dengan jumlah 9 tweet')\n",
    "      "
   ]
  },
  {
   "cell_type": "code",
   "execution_count": null,
   "metadata": {},
   "outputs": [],
   "source": []
  },
  {
   "cell_type": "code",
   "execution_count": null,
   "metadata": {},
   "outputs": [],
   "source": []
  }
 ],
 "metadata": {
  "kernelspec": {
   "display_name": "Python 3",
   "language": "python",
   "name": "python3"
  },
  "language_info": {
   "codemirror_mode": {
    "name": "ipython",
    "version": 3
   },
   "file_extension": ".py",
   "mimetype": "text/x-python",
   "name": "python",
   "nbconvert_exporter": "python",
   "pygments_lexer": "ipython3",
   "version": "3.8.3"
  }
 },
 "nbformat": 4,
 "nbformat_minor": 4
}
