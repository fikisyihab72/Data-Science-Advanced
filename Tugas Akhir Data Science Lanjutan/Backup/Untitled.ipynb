{
 "cells": [
  {
   "cell_type": "code",
   "execution_count": 117,
   "metadata": {},
   "outputs": [],
   "source": [
    "import tweepy\n",
    "import re\n",
    "import pandas as pd\n",
    "import matplotlib.pyplot as plt\n",
    "import numpy as np\n",
    "from datetime import date, timedelta\n",
    "import sqlite3"
   ]
  },
  {
   "cell_type": "code",
   "execution_count": 113,
   "metadata": {},
   "outputs": [],
   "source": [
    "connection = sqlite3.connect('db_tugas_akhir.db')\n",
    "cursor = connection.cursor()\n",
    "#print(\"Database created and Successfully Connected to SQLite\")\n",
    "cursor.close()"
   ]
  },
  {
   "cell_type": "code",
   "execution_count": 3,
   "metadata": {},
   "outputs": [],
   "source": [
    "connection = sqlite3.connect(\"db_tugas_akhir.db\")\n",
    "create_tabel_tweet = '''CREATE TABLE IF NOT EXISTS tabel_tweet (\n",
    "                             id INTEGER PRIMARY KEY AUTOINCREMENT,\n",
    "                             user TEXT,\n",
    "                             tanggal TEXTL,\n",
    "                             tweet TEXT UNIQUE,\n",
    "                             sentiment INTEGER);'''\n",
    "\n",
    "cursor = connection.cursor()\n",
    "cursor.execute(create_tabel_tweet)\n",
    "connection.commit()\n",
    "cursor.close()\n",
    "connection.close()"
   ]
  },
  {
   "cell_type": "code",
   "execution_count": 119,
   "metadata": {},
   "outputs": [],
   "source": [
    "def autentikasi():\n",
    "    consumer_key = \"ZTc8gleb1HkEN3CpJCsVgGCva\"\n",
    "    consumer_secret = \"1ixVSxHJHQPwMJUswkg6PiTqkptHMgEGsNxfo4O3jeB4x0qUn1\"\n",
    "    access_token = \"844846590649032706-QrO5iNylPUyfYBq23ZrB7wQp13PGtUq\"\n",
    "    access_token_secret = \"HknBidwR0BWZ0nibDBZt4CHbyaAnCxv7QeL48EyP9Hhwf\"\n",
    "\n",
    "    auth = tweepy.OAuthHandler(consumer_key, consumer_secret)\n",
    "    auth.set_access_token(access_token, access_token_secret)\n",
    "    api = tweepy.API(auth)\n",
    "    return(api)\n"
   ]
  },
  {
   "cell_type": "code",
   "execution_count": 120,
   "metadata": {},
   "outputs": [],
   "source": [
    "#Menu 1 ambil data + preprocessing\n",
    "def updateData():\n",
    "    api = autentikasi()\n",
    "    #scrape()\n",
    "    print(\"Silahkan tunggu beberapa saat....\")\n",
    "    search_words = \"vaksin covid\"\n",
    "    date_since = date.today() - timedelta(days=1)\n",
    "    new_search = search_words + \" -filter:retweets\"\n",
    "\n",
    "    tweets = tweepy.Cursor(api.search, tweet_mode='extended',\n",
    "            q=new_search,\n",
    "            lang=\"id\",\n",
    "            since=date_since).items(1000)\n",
    "    \n",
    "    items = []\n",
    "    for tweet in tweets:\n",
    "        item = []\n",
    "        item.append(tweet.user.screen_name)\n",
    "        item.append(tweet.created_at)\n",
    "        item.append (' '.join(re.sub(\"(@[A-Za-z0-9]+)|([^0-9A-Za-z \\t])|(\\w+:\\/\\/\\S+)\", \" \", tweet.full_text).split()))\n",
    "        items.append(item)\n",
    "    #hasil = pd.DataFrame(data=items, columns=['user','tanggal','tweet'])\n",
    "    input_data(items)\n",
    "    print(\"Data telah terupdate!\")\n",
    "    mainMenu()\n"
   ]
  },
  {
   "cell_type": "code",
   "execution_count": 121,
   "metadata": {},
   "outputs": [],
   "source": [
    "#Menu 1 Insert ke sqlite\n",
    "def input_data(items):\n",
    "    connection = sqlite3.connect(\"db_tugas_akhir.db\")\n",
    "    crud_query = '''INSERT OR IGNORE INTO tabel_tweet (user, tanggal, tweet) values (?,?,?)'''\n",
    "\n",
    "    cursor = connection.cursor()\n",
    "    cursor.executemany(crud_query,items)\n",
    "    connection.commit()\n",
    "    cursor.close()\n",
    "    connection.close()"
   ]
  },
  {
   "cell_type": "code",
   "execution_count": 122,
   "metadata": {},
   "outputs": [],
   "source": [
    "\n",
    "#DELETE ALL!\n",
    "\n",
    "#connection = sqlite3.connect(\"db_tugas_akhir.db\")\n",
    "#crud_query = '''delete from tabel_tweet'''\n",
    "\n",
    "#cursor = connection.cursor()\n",
    "#cursor.execute(crud_query)\n",
    "#connection.commit()\n",
    "#cursor.close()\n",
    "#connection.close()\n",
    "\n",
    "\n"
   ]
  },
  {
   "cell_type": "code",
   "execution_count": 123,
   "metadata": {},
   "outputs": [],
   "source": [
    "#Menu 2 get all\n",
    "def ambil_data():\n",
    "    connection = sqlite3.connect(\"db_tugas_akhir.db\")\n",
    "    crud_query = '''SELECT * FROM tabel_tweet'''\n",
    "\n",
    "    cursor = connection.cursor()\n",
    "    cursor.execute(crud_query)\n",
    "    hasilsemua =  cursor.fetchall()\n",
    "\n",
    "    cursor.close()\n",
    "    connection.close()\n",
    "    return(hasilsemua)\n",
    "    #hasil = pd.DataFrame(data=hasilsemua, columns=['id','user','tanggal','tweet','sentiment'])"
   ]
  },
  {
   "cell_type": "code",
   "execution_count": 133,
   "metadata": {},
   "outputs": [],
   "source": [
    "#Menu 2 scoring sentimen\n",
    "def updateNilaiSentiment():\n",
    "    print(\"Mohon tunggu sebentar....\")\n",
    "    hasilsemua = ambil_data()\n",
    "    #perpustakaan_kata()\n",
    "    \n",
    "    pos_list= open(\"./kata_positif.txt\",\"r\")\n",
    "    pos_kata = pos_list.readlines()\n",
    "    neg_list= open(\"./kata_negatif.txt\",\"r\")\n",
    "    neg_kata = neg_list.readlines()\n",
    "    \n",
    "    Sen=[]\n",
    "\n",
    "    for item in hasilsemua:\n",
    "        count_p = 0\n",
    "        count_n = 0\n",
    "        for kata_pos in pos_kata:\n",
    "            if kata_pos.strip() in item[3]:\n",
    "                count_p +=1\n",
    "        for kata_neg in neg_kata:\n",
    "            if kata_neg.strip() in item[3]:\n",
    "                count_n +=1\n",
    "        Sen.append(count_p - count_n)\n",
    "    input_nilai_sentiment(Sen)\n",
    "    #print(Sen)\n",
    "    print(\"Nilai sentiment telah terupdate!\")\n",
    "    mainMenu()\n",
    "    "
   ]
  },
  {
   "cell_type": "code",
   "execution_count": 125,
   "metadata": {},
   "outputs": [],
   "source": [
    "#Menu 2 Update sentimen\n",
    "def input_nilai_sentiment(Sen):\n",
    "    connection = sqlite3.connect(\"db_tugas_akhir.db\")\n",
    "    crud_query_sentiment = '''UPDATE tabel_tweet SET sentiment = ? WHERE id = ?'''\n",
    "\n",
    "\n",
    "    cursor = connection.cursor()\n",
    "    rowids = [id[0] for id in cursor.execute('SELECT id FROM tabel_tweet')]\n",
    "    cursor.executemany(crud_query_sentiment, list(zip(Sen, sorted(rowids))))\n",
    "\n",
    "    connection.commit()\n",
    "    cursor.close()\n",
    "    connection.close()"
   ]
  },
  {
   "cell_type": "code",
   "execution_count": 126,
   "metadata": {},
   "outputs": [],
   "source": [
    "def ambil_score_sentiment():\n",
    "    hasilsemua = ambil_data()\n",
    "    vv = []\n",
    "    for item in hasilsemua:\n",
    "        vv.append(item[4])\n",
    "    return(vv)"
   ]
  },
  {
   "cell_type": "code",
   "execution_count": 127,
   "metadata": {},
   "outputs": [],
   "source": [
    "def visualisasi():\n",
    "    #Menu 4\n",
    "    #hasil[\"value\"] = S\n",
    "    vv = ambil_score_sentiment()\n",
    "    print('Sentimen analisis')\n",
    "    print (\"Nilai rata-rata: \"+str(np.mean(vv)))\n",
    "    print (\"Nilai median : \"+str(np.median(vv)))\n",
    "    print (\"Nilai Standar Deviasi : \"+str(np.std(vv)))\n",
    "\n",
    "    labels, counts = np.unique(vv, return_counts=True)\n",
    "    plt.bar(labels, counts, align='center')\n",
    "    plt.gca().set_xticks(labels)\n",
    "    plt.show()\n",
    "    mainMenu()"
   ]
  },
  {
   "cell_type": "code",
   "execution_count": 146,
   "metadata": {},
   "outputs": [],
   "source": [
    "def lihatData():\n",
    "    print(\"Format tanggal (yyyy-mm-dd)\")\n",
    "    print(\"Contoh : 2020-08-15\")\n",
    "    tgl=input(\"Masukkan tanggal : \")\n",
    "    #tgl = tgl1+'%'\n",
    "    print(tgl)\n",
    "    hasil_query_tgl = ambil_data_berdasar_tanggal(tgl)\n",
    "    display(hasil_query_tgl)\n",
    "    mainMenu()\n",
    "    "
   ]
  },
  {
   "cell_type": "code",
   "execution_count": 129,
   "metadata": {},
   "outputs": [],
   "source": [
    "def ambil_data_berdasar_tanggal(tgl):\n",
    "    connection = sqlite3.connect(\"db_tugas_akhir.db\")\n",
    "    #crud_query = '''SELECT user, tanggal, tweet FROM tabel_tweet WHERE tanggal like {tgl}'''\n",
    "\n",
    "    cursor = connection.cursor()\n",
    "    cursor.execute(\"SELECT * FROM tabel_tweet WHERE tanggal LIKE '{}%'\".format(tgl))\n",
    "    hasilsemua =  cursor.fetchall()\n",
    "\n",
    "    cursor.close()\n",
    "    connection.close()\n",
    "    return(hasilsemua)"
   ]
  },
  {
   "cell_type": "code",
   "execution_count": 153,
   "metadata": {},
   "outputs": [],
   "source": [
    "def mainMenu():\n",
    "    print('')\n",
    "    print('===========================')\n",
    "    print('Main Menu')\n",
    "    print('1. Update data')\n",
    "    print('2. Update Nilai sentiment')\n",
    "    print('3. Lihat data')\n",
    "    print('4. Visualisasi')\n",
    "    print('5. Keluar')\n",
    "    print('===========================')\n",
    "    while True:\n",
    "        try:\n",
    "            selection=int(input(\"Pilih menu (1-5) : \"))\n",
    "            if selection == 1:\n",
    "                updateData()\n",
    "                break\n",
    "            elif selection == 2:\n",
    "                updateNilaiSentiment()\n",
    "                break\n",
    "            elif selection == 3:\n",
    "                lihatData()\n",
    "                break\n",
    "            elif selection == 4:\n",
    "                visualisasi()\n",
    "                break\n",
    "            elif selection == 5:\n",
    "                print(\"Program telah dihentikan\")\n",
    "                break\n",
    "            else:\n",
    "                print(\"Input salah. masukkan angka 1-5\")\n",
    "                mainMenu()\n",
    "                break\n",
    "        except ValueError:\n",
    "            print(\"Input salah. masukkan angka 1-5\")\n",
    "    exit\n",
    "\n",
    "                \n"
   ]
  },
  {
   "cell_type": "code",
   "execution_count": 154,
   "metadata": {},
   "outputs": [
    {
     "name": "stdout",
     "output_type": "stream",
     "text": [
      "\n",
      "===========================\n",
      "Main Menu\n",
      "1. Update data\n",
      "2. Update Nilai sentiment\n",
      "3. Lihat data\n",
      "4. Visualisasi\n",
      "5. Keluar\n",
      "===========================\n",
      "Pilih menu (1-5) : 5\n",
      "Program telah dihentikan\n"
     ]
    }
   ],
   "source": [
    "mainMenu()"
   ]
  },
  {
   "cell_type": "code",
   "execution_count": null,
   "metadata": {},
   "outputs": [],
   "source": []
  }
 ],
 "metadata": {
  "kernelspec": {
   "display_name": "Python 3",
   "language": "python",
   "name": "python3"
  },
  "language_info": {
   "codemirror_mode": {
    "name": "ipython",
    "version": 3
   },
   "file_extension": ".py",
   "mimetype": "text/x-python",
   "name": "python",
   "nbconvert_exporter": "python",
   "pygments_lexer": "ipython3",
   "version": "3.8.3"
  }
 },
 "nbformat": 4,
 "nbformat_minor": 4
}
