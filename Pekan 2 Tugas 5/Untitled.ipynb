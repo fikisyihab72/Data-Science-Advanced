{
 "cells": [
  {
   "cell_type": "code",
   "execution_count": 20,
   "metadata": {},
   "outputs": [],
   "source": [
    "import pandas as pd\n",
    "import requests\n",
    "import numpy as np\n",
    "\n",
    "\n",
    "response = requests.get('https://pokemondb.net/pokedex/all')\n",
    "\n",
    "if __name__ == '__main__':\n",
    "  df = pd.read_html(response.content, flavor='bs4')\n",
    "\n",
    "  pokedex_12 = df[0]['#'] <= 12\n",
    "  pokemon = df[0][pokedex_12]\n"
   ]
  },
  {
   "cell_type": "code",
   "execution_count": 21,
   "metadata": {},
   "outputs": [
    {
     "name": "stdout",
     "output_type": "stream",
     "text": [
      "     #                        Name          Type  Total  HP  Attack  Defense  \\\n",
      "0    1                   Bulbasaur  Grass Poison    318  45      49       49   \n",
      "1    2                     Ivysaur  Grass Poison    405  60      62       63   \n",
      "2    3                    Venusaur  Grass Poison    525  80      82       83   \n",
      "3    3      Venusaur Mega Venusaur  Grass Poison    625  80     100      123   \n",
      "4    4                  Charmander          Fire    309  39      52       43   \n",
      "5    5                  Charmeleon          Fire    405  58      64       58   \n",
      "6    6                   Charizard   Fire Flying    534  78      84       78   \n",
      "7    6  Charizard Mega Charizard X   Fire Dragon    634  78     130      111   \n",
      "8    6  Charizard Mega Charizard Y   Fire Flying    634  78     104       78   \n",
      "9    7                    Squirtle         Water    314  44      48       65   \n",
      "10   8                   Wartortle         Water    405  59      63       80   \n",
      "11   9                   Blastoise         Water    530  79      83      100   \n",
      "12   9    Blastoise Mega Blastoise         Water    630  79     103      120   \n",
      "13  10                    Caterpie           Bug    195  45      30       35   \n",
      "14  11                     Metapod           Bug    205  50      20       55   \n",
      "15  12                  Butterfree    Bug Flying    395  60      45       50   \n",
      "\n",
      "    Sp. Atk  Sp. Def  Speed  \n",
      "0        65       65     45  \n",
      "1        80       80     60  \n",
      "2       100      100     80  \n",
      "3       122      120     80  \n",
      "4        60       50     65  \n",
      "5        80       65     80  \n",
      "6       109       85    100  \n",
      "7       130       85    100  \n",
      "8       159      115    100  \n",
      "9        50       64     43  \n",
      "10       65       80     58  \n",
      "11       85      105     78  \n",
      "12      135      115     78  \n",
      "13       20       20     45  \n",
      "14       25       25     30  \n",
      "15       90       80     70  \n"
     ]
    }
   ],
   "source": [
    "print(pokemon)"
   ]
  },
  {
   "cell_type": "code",
   "execution_count": 24,
   "metadata": {},
   "outputs": [],
   "source": [
    "pokemon.to_excel(\"TugasPythonLanjutan_Hari_10_Fiki Syihab Irawan.xlsx\", index=False)"
   ]
  }
 ],
 "metadata": {
  "kernelspec": {
   "display_name": "Python 3",
   "language": "python",
   "name": "python3"
  },
  "language_info": {
   "codemirror_mode": {
    "name": "ipython",
    "version": 3
   },
   "file_extension": ".py",
   "mimetype": "text/x-python",
   "name": "python",
   "nbconvert_exporter": "python",
   "pygments_lexer": "ipython3",
   "version": "3.8.3"
  }
 },
 "nbformat": 4,
 "nbformat_minor": 4
}
